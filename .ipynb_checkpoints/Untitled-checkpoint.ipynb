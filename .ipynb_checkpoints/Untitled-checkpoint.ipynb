{
 "cells": [
  {
   "cell_type": "code",
   "execution_count": 1,
   "id": "c971fdd1-af2b-4ca7-877c-5882bbb29934",
   "metadata": {},
   "outputs": [],
   "source": [
    "import pandas as pd"
   ]
  },
  {
   "cell_type": "code",
   "execution_count": 4,
   "id": "5c114b84-96b9-47cb-8f13-6241f15248ed",
   "metadata": {},
   "outputs": [
    {
     "data": {
      "text/plain": [
       "'/home/dcmorgan'"
      ]
     },
     "execution_count": 4,
     "metadata": {},
     "output_type": "execute_result"
    }
   ],
   "source": [
    "import os\n",
    "os.getcwd()\n",
    "os.chdir('../..')\n",
    "os.getcwd()"
   ]
  },
  {
   "cell_type": "code",
   "execution_count": 136,
   "id": "345c6e39-5f74-4466-8a88-8d9b74548199",
   "metadata": {},
   "outputs": [],
   "source": [
    "reads=pd.read_csv('assemble/GMOREA0109-DNA/final_contigs.fa',names=['name','seq'])\n",
    "hits=pd.read_csv('assemble/GMOREA0109-DNA/viral_hits.blast',sep='\\t',names=['name','tmp','identity','tmp1','tmp2','tmp3','tmp4','tmp5','tmp8','tmp12','tmp13','tmp11'])\n",
    "hits=hits[['name','identity']]\n"
   ]
  },
  {
   "cell_type": "code",
   "execution_count": 137,
   "id": "b66a345b-6fe5-45f2-b0c1-2334f3e15ad2",
   "metadata": {},
   "outputs": [],
   "source": [
    "AA=set(reads.name.str.split(' ').str[0]) & set('>'+hits.name.str.split('_').str[0]+'_'+hits.name.str.split('_').str[1])"
   ]
  },
  {
   "cell_type": "code",
   "execution_count": 138,
   "id": "afe986e1-f317-4159-9174-e383e7278637",
   "metadata": {},
   "outputs": [],
   "source": [
    "reads[reads['name'].str.split(' ').str[0].isin(AA)].to_csv('assemble/GMOREA0109-DNA/blast_contigs.fa',header=False,index=False)"
   ]
  },
  {
   "cell_type": "code",
   "execution_count": null,
   "id": "1c9074a0-42af-4079-b8e1-5920959f1e36",
   "metadata": {},
   "outputs": [],
   "source": []
  }
 ],
 "metadata": {
  "kernelspec": {
   "display_name": "mypy3",
   "language": "python",
   "name": "mypy3"
  },
  "language_info": {
   "codemirror_mode": {
    "name": "ipython",
    "version": 3
   },
   "file_extension": ".py",
   "mimetype": "text/x-python",
   "name": "python",
   "nbconvert_exporter": "python",
   "pygments_lexer": "ipython3",
   "version": "3.9.9"
  }
 },
 "nbformat": 4,
 "nbformat_minor": 5
}
